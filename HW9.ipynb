{
 "cells": [
  {
   "cell_type": "code",
   "execution_count": 14,
   "id": "ddd15dd1-7eff-4220-83eb-bd5277115622",
   "metadata": {},
   "outputs": [],
   "source": [
    "import matplotlib.pyplot as plt\n",
    "import numpy as np\n",
    "import seaborn as sns\n",
    "\n",
    "from scipy.stats import kendalltau"
   ]
  },
  {
   "cell_type": "code",
   "execution_count": 4,
   "id": "e8ce8221-3e2c-41f7-ab3d-35368a96abfd",
   "metadata": {},
   "outputs": [],
   "source": [
    "images = []\n",
    "for i in range(10):\n",
    "    img = plt.imread(f'images/c_{i}.png')\n",
    "    img[img != 0] = 1.\n",
    "    images.append(img)\n",
    "    \n",
    "h, w = images[0].shape"
   ]
  },
  {
   "cell_type": "code",
   "execution_count": 10,
   "id": "6ddb6c99-631c-41f2-875d-1f6b36adb8d7",
   "metadata": {},
   "outputs": [],
   "source": [
    "def get_indenpendence(img1, img2):\n",
    "    e1 = (img1 == 1).astype('float')\n",
    "    e2 = (img1 == 0).astype('float')\n",
    "    f1 = (img2 == 1).astype('float')\n",
    "    f2 = (img2 == 0).astype('float')\n",
    "    c1 = -1*np.linalg.norm(e1)**2/np.linalg.norm(e2)**2\n",
    "    c2 = -1*np.linalg.norm(f1)**2/np.linalg.norm(f2)**2\n",
    "    g1 = e1 + c1*e2\n",
    "    g2 = f1 + c2*f2\n",
    "    g1 = g1 / np.linalg.norm(g1)\n",
    "    g2 = g2 / np.linalg.norm(g2)\n",
    "    return 1 - np.sum(g1*g2)"
   ]
  },
  {
   "cell_type": "code",
   "execution_count": 11,
   "id": "7314d7be-1a0d-49cd-9626-c810b21a7d8e",
   "metadata": {},
   "outputs": [
    {
     "data": {
      "text/plain": [
       "(9, 10, 10)"
      ]
     },
     "execution_count": 11,
     "metadata": {},
     "output_type": "execute_result"
    }
   ],
   "source": [
    "matrixes = np.load('matr8.npy')\n",
    "matrixes.shape"
   ]
  },
  {
   "cell_type": "code",
   "execution_count": 12,
   "id": "b5b77bfe-d09d-401e-9d30-4facf3c63408",
   "metadata": {},
   "outputs": [],
   "source": [
    "sigmas = [0, 0.05, 0.1, 0.3, 0.5, 1, 2, 3, 5]"
   ]
  },
  {
   "cell_type": "code",
   "execution_count": 13,
   "id": "acaeeb01-5033-4e69-b6c2-f16898e0681d",
   "metadata": {},
   "outputs": [],
   "source": [
    "inds = dict()\n",
    "for first in range(0, 10):\n",
    "    for second in range(first+1, 10):\n",
    "        inds[str(first) + '-' + str(second)] = get_indenpendence(images[first], images[second])"
   ]
  },
  {
   "cell_type": "code",
   "execution_count": 107,
   "id": "aee9c56a-1a42-4451-a6b8-8e8fc629d300",
   "metadata": {},
   "outputs": [
    {
     "data": {
      "text/plain": [
       "{'0-8': 0.3134587903334234,\n",
       " '8-9': 0.4453104295166792,\n",
       " '0-9': 0.45938014852845366,\n",
       " '2-8': 0.46237770449136095,\n",
       " '0-2': 0.47910264717824536,\n",
       " '2-3': 0.5481707447095752,\n",
       " '1-8': 0.5528450051990508,\n",
       " '0-6': 0.556216791214713,\n",
       " '0-3': 0.5574491409756548,\n",
       " '3-8': 0.5781668999852111,\n",
       " '7-8': 0.585617776732669,\n",
       " '5-9': 0.5915408721223732,\n",
       " '5-8': 0.5927844192954046,\n",
       " '0-5': 0.6159231775207006,\n",
       " '2-4': 0.6224663663356951,\n",
       " '1-7': 0.6389222218965749,\n",
       " '6-8': 0.6394803512430993,\n",
       " '4-7': 0.6439876735765608,\n",
       " '3-7': 0.6617387291693464,\n",
       " '0-7': 0.6644641268897569,\n",
       " '6-9': 0.6662430839166489,\n",
       " '0-4': 0.6761601512163398,\n",
       " '0-1': 0.6772203510653033,\n",
       " '2-5': 0.6785698552199138,\n",
       " '7-9': 0.6786565023504665,\n",
       " '3-4': 0.6822461493784844,\n",
       " '1-3': 0.6827394759074674,\n",
       " '2-7': 0.6851012865193196,\n",
       " '1-9': 0.6892348221916249,\n",
       " '6-7': 0.6940001327135499,\n",
       " '1-5': 0.7053757707547081,\n",
       " '2-9': 0.7069384976866366,\n",
       " '4-8': 0.719229546637177,\n",
       " '1-6': 0.7282184193364593,\n",
       " '3-9': 0.7346014273692097,\n",
       " '4-9': 0.7456733615190626,\n",
       " '3-6': 0.7465768132481467,\n",
       " '3-5': 0.753779880954978,\n",
       " '2-6': 0.7699946268285304,\n",
       " '1-2': 0.775899809857974,\n",
       " '5-7': 0.7972063703905911,\n",
       " '4-5': 0.8026885990831018,\n",
       " '4-6': 0.8054786785637922,\n",
       " '5-6': 0.8071858912040548,\n",
       " '1-4': 0.9752659412630855}"
      ]
     },
     "execution_count": 107,
     "metadata": {},
     "output_type": "execute_result"
    }
   ],
   "source": [
    "sorted_inds = dict(sorted(inds.items(), key=lambda x: x[1]))\n",
    "sorted_inds"
   ]
  },
  {
   "cell_type": "code",
   "execution_count": 15,
   "id": "31b9d33b-8810-42e5-b872-b334e9dd3499",
   "metadata": {},
   "outputs": [],
   "source": [
    "def get_kendall(inds, matrix):\n",
    "    x = list()\n",
    "    y = list()\n",
    "    for i in range(matrix.shape[0]):\n",
    "        for j in range(matrix.shape[1]):\n",
    "            if i == j:\n",
    "                continue\n",
    "            x.append(matrix[i, j]/100)\n",
    "            tmp = str(i) + \"-\" + str(j) if i < j else str(j) + \"-\" + str(i)\n",
    "            y.append(inds[tmp])\n",
    "    return kendalltau(x,y)"
   ]
  },
  {
   "cell_type": "code",
   "execution_count": 17,
   "id": "d23539bb-8f1d-4e1a-8a37-98a72b2ca973",
   "metadata": {},
   "outputs": [],
   "source": [
    "freqs = (matrixes[5]+matrixes[5].transpose())/200\n",
    "freqs_d = dict()\n",
    "for first in range(0, 10):\n",
    "    for second in range(first+1, 10):\n",
    "        freqs_d[str(first) + '-' + str(second)] = freqs[first, second]"
   ]
  },
  {
   "cell_type": "code",
   "execution_count": 18,
   "id": "9b9c8baf-ffa0-47b4-8016-d62a0bd34dcc",
   "metadata": {},
   "outputs": [
    {
     "data": {
      "text/plain": [
       "{'0-2': 0.0,\n",
       " '0-3': 0.0,\n",
       " '0-4': 0.0,\n",
       " '0-7': 0.0,\n",
       " '1-4': 0.0,\n",
       " '1-5': 0.0,\n",
       " '1-6': 0.0,\n",
       " '1-7': 0.0,\n",
       " '1-9': 0.0,\n",
       " '2-3': 0.0,\n",
       " '2-4': 0.0,\n",
       " '3-4': 0.0,\n",
       " '3-6': 0.0,\n",
       " '3-7': 0.0,\n",
       " '3-8': 0.0,\n",
       " '4-5': 0.0,\n",
       " '4-6': 0.0,\n",
       " '4-7': 0.0,\n",
       " '4-8': 0.0,\n",
       " '4-9': 0.0,\n",
       " '5-6': 0.0,\n",
       " '5-7': 0.0,\n",
       " '5-8': 0.0,\n",
       " '5-9': 0.0,\n",
       " '6-7': 0.0,\n",
       " '6-8': 0.0,\n",
       " '6-9': 0.0,\n",
       " '7-8': 0.0,\n",
       " '7-9': 0.0,\n",
       " '0-8': 0.005,\n",
       " '3-9': 0.005,\n",
       " '3-5': 0.01,\n",
       " '2-7': 0.025,\n",
       " '8-9': 0.03,\n",
       " '2-8': 0.035,\n",
       " '0-1': 0.055,\n",
       " '0-6': 0.06,\n",
       " '2-6': 0.06,\n",
       " '0-5': 0.07,\n",
       " '1-8': 0.07,\n",
       " '2-9': 0.1,\n",
       " '1-3': 0.14,\n",
       " '1-2': 0.235,\n",
       " '0-9': 0.335,\n",
       " '2-5': 0.415}"
      ]
     },
     "execution_count": 18,
     "metadata": {},
     "output_type": "execute_result"
    }
   ],
   "source": [
    "freqs_d = dict(sorted(freqs_d.items(), key=lambda x: x[1]))\n",
    "freqs_d"
   ]
  },
  {
   "cell_type": "code",
   "execution_count": 19,
   "id": "e5989cd4-5cb7-4435-a8bc-c2edced05049",
   "metadata": {},
   "outputs": [],
   "source": [
    "ks = list()\n",
    "ps = list()\n",
    "for i, sigma in enumerate(sigmas):\n",
    "    t, p = get_kendall(inds, matrixes[i])\n",
    "    ks.append(t)\n",
    "    ps.append(p)\n",
    "    "
   ]
  },
  {
   "cell_type": "code",
   "execution_count": 20,
   "id": "55c73ab3-e3f5-47c6-88ed-d0b7de43d208",
   "metadata": {},
   "outputs": [
    {
     "data": {
      "text/plain": [
       "[nan,\n",
       " nan,\n",
       " nan,\n",
       " nan,\n",
       " -0.04057472170769479,\n",
       " -0.07093158015160302,\n",
       " -0.09683069612535691,\n",
       " -0.05925552920099219,\n",
       " -0.08061273761401841]"
      ]
     },
     "execution_count": 20,
     "metadata": {},
     "output_type": "execute_result"
    }
   ],
   "source": [
    "ks"
   ]
  },
  {
   "cell_type": "code",
   "execution_count": 21,
   "id": "735d7621-84fa-40f2-8094-0655fa773a06",
   "metadata": {},
   "outputs": [
    {
     "data": {
      "text/plain": [
       "[nan,\n",
       " nan,\n",
       " nan,\n",
       " nan,\n",
       " 0.6392147535721453,\n",
       " 0.3986801327326551,\n",
       " 0.2375374421408314,\n",
       " 0.46665399597024604,\n",
       " 0.320453307167894]"
      ]
     },
     "execution_count": 21,
     "metadata": {},
     "output_type": "execute_result"
    }
   ],
   "source": [
    "ps"
   ]
  },
  {
   "cell_type": "code",
   "execution_count": 22,
   "id": "69b030db-9d8b-4514-b695-0b111f851a55",
   "metadata": {},
   "outputs": [
    {
     "data": {
      "text/plain": [
       "[<matplotlib.lines.Line2D at 0x7f6160a0f890>]"
      ]
     },
     "execution_count": 22,
     "metadata": {},
     "output_type": "execute_result"
    },
    {
     "data": {
      "image/png": "[encoded data removed]",
      "text/plain": [
       "<Figure size 640x480 with 1 Axes>"
      ]
     },
     "metadata": {},
     "output_type": "display_data"
    }
   ],
   "source": [
    "plt.plot(sigmas[4:], ks[4:])"
   ]
  }
 ],
 "metadata": {
  "kernelspec": {
   "display_name": "Python 3 (ipykernel)",
   "language": "python",
   "name": "python3"
  },
  "language_info": {
   "codemirror_mode": {
    "name": "ipython",
    "version": 3
   },
   "file_extension": ".py",
   "mimetype": "text/x-python",
   "name": "python",
   "nbconvert_exporter": "python",
   "pygments_lexer": "ipython3",
   "version": "3.11.6"
  }
 },
 "nbformat": 4,
 "nbformat_minor": 5
}
